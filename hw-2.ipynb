{
 "cells": [
  {
   "cell_type": "code",
   "execution_count": null,
   "metadata": {},
   "outputs": [],
   "source": [
    "%matplotlib inline\n",
    "import numpy as np\n",
    "import matplotlib.pyplot as plt"
   ]
  },
  {
   "cell_type": "code",
   "execution_count": null,
   "metadata": {},
   "outputs": [],
   "source": [
    "x = np.linspace(0, 2*np.pi, 1000)\n",
    "\n",
    "a = 5.5*np.cos(2*x)+5.5\n",
    "b = 0.02*np.exp(x)\n",
    "c = 0.25*x**2+0.1*np.sin(10*x)\n",
    "\n",
    "plt.plot(x, a)\n",
    "plt.plot(x, b)\n",
    "plt.plot(x, c)\n",
    "\n",
    "plt.xlabel('Time spent in EART 119')\n",
    "plt.ylabel('Knowlege Gained')\n",
    "plt.xlim([0, 2*np.pi])\n",
    "plt.ylim([-1,10])"
   ]
  }
 ],
 "metadata": {
  "kernelspec": {
   "display_name": "Python 3",
   "language": "python",
   "name": "python3"
  },
  "language_info": {
   "codemirror_mode": {
    "name": "ipython",
    "version": 3
   },
   "file_extension": ".py",
   "mimetype": "text/x-python",
   "name": "python",
   "nbconvert_exporter": "python",
   "pygments_lexer": "ipython3",
   "version": "3.6.5"
  }
 },
 "nbformat": 4,
 "nbformat_minor": 2
}
